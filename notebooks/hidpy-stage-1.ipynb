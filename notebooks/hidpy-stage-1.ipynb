{
 "cells": [
  {
   "cell_type": "code",
   "execution_count": null,
   "metadata": {},
   "outputs": [],
   "source": [
    "################# PLEASE DON'T EDIT THIS PANEL #################\n",
    "# Auto-installation of all the depedency packages \n",
    "def install(package):\n",
    "    import subprocess\n",
    "    import sys\n",
    "    print('Installing: %s' % package)\n",
    "    subprocess.check_call([sys.executable, \"-m\", \"pip\", \"install\", package])\n",
    "\n",
    "# Required packages \n",
    "packages = ['matplotlib', 'seaborn', 'tqdm']\n",
    "for package in packages:\n",
    "    install(package=package)"
   ]
  },
  {
   "cell_type": "code",
   "execution_count": null,
   "metadata": {},
   "outputs": [],
   "source": [
    "################# PLEASE DON'T EDIT THIS PANEL #################\n",
    "print('* Verifying the packages')\n",
    "# System packages \n",
    "import os\n",
    "import pathlib \n",
    "import sys \n",
    "\n",
    "# Path hidpy\n",
    "sys.path.append('%s/../' % os.getcwd())\n",
    "\n",
    "# Internal packages \n",
    "from core import optical_flow\n",
    "from core import video_processing\n",
    "from core import plotting\n",
    "\n",
    "print('\\t* All required packages were successfully imported!')\n",
    "################# PLEASE DON'T EDIT THIS PANEL #################"
   ]
  },
  {
   "cell_type": "code",
   "execution_count": null,
   "metadata": {},
   "outputs": [],
   "source": [
    "############ INPUTS PANEL, YOU CAN EDIT THIS PANEL ############ \n",
    "# Input video sequence (single sequence)   \n",
    "video_sequence = '%s/../data/sequences/sequence1.avi' % os.getcwd()\n",
    "\n",
    "# Output directory \n",
    "output_directory = '%s/../output2/' % os.getcwd()\n",
    "try: \n",
    "    os.mkdir(output_directory)\n",
    "except: \n",
    "    print('WARNING: The output path [%s] exists'% output_directory)\n",
    "\n",
    "# Pixel threshold\n",
    "pixel_threshold = 15\n",
    "\n",
    "print('\\t* All input parameters are successfully set!')\n",
    "############ INPUTS PANEL, YOU CAN EDIT THIS PANEL ############ "
   ]
  },
  {
   "cell_type": "code",
   "execution_count": null,
   "metadata": {},
   "outputs": [],
   "source": [
    "################# PLEASE DON'T EDIT THIS PANEL #################\n",
    "# Load the frames from the video \n",
    "print('* Loading frames')\n",
    "frames = video_processing.get_frames_list_from_video(\n",
    "    video_path=video_sequence, verbose=True)\n",
    "print('\\t* Frames loaded!')\n",
    "################# PLEASE DON'T EDIT THIS PANEL #################"
   ]
  },
  {
   "cell_type": "code",
   "execution_count": null,
   "metadata": {},
   "outputs": [],
   "source": [
    "################# PLEASE DON'T EDIT THIS PANEL #################\n",
    "# Compute the optical flow\n",
    "print('* Computing optical flow') \n",
    "u, v = optical_flow.compute_optical_flow_farneback(frames=frames)\n",
    "print('\\t* Optical flow computed!') \n",
    "\n",
    "# Interpolate the flow field\n",
    "print('* Computing interpolations')\n",
    "u, v = optical_flow.interpolate_flow_fields(u_arrays=u, v_arrays=v)\n",
    "print('\\t* Interpolations computed!')\n",
    "\n",
    "# Compute the trajectories \n",
    "print('* Creating trajectories')\n",
    "trajectories = optical_flow.compute_trajectories(\n",
    "    frame=frames[0], fu_arrays=u, fv_arrays=v, pixel_threshold=pixel_threshold)\n",
    "print('\\t* Trajectories created!')\n",
    "\n",
    "# Plot the trajectories \n",
    "print('* Plotting trajectories')\n",
    "plotting.plot_trajectories_on_frame(\n",
    "    frame=frames[0], trajectories=trajectories, \n",
    "    output_path='%s/trajectories' % output_directory)\n",
    "print('\\t* Trajectories rendered!')\n",
    "\n",
    "print('* Saving the trajectories')\n",
    "optical_flow.save_trajectories_to_file(trajectories=trajectories,\n",
    "        file_path='%s/trajectory' % output_directory)\n",
    "print('\\t* Trajectories saved!')\n",
    "################# PLEASE DON'T EDIT THIS PANEL #################"
   ]
  },
  {
   "cell_type": "code",
   "execution_count": null,
   "metadata": {},
   "outputs": [],
   "source": [
    "# Report generation"
   ]
  }
 ],
 "metadata": {
  "kernelspec": {
   "display_name": "Python 3.10.4 64-bit",
   "language": "python",
   "name": "python3"
  },
  "language_info": {
   "codemirror_mode": {
    "name": "ipython",
    "version": 3
   },
   "file_extension": ".py",
   "mimetype": "text/x-python",
   "name": "python",
   "nbconvert_exporter": "python",
   "pygments_lexer": "ipython3",
   "version": "3.10.4"
  },
  "orig_nbformat": 4,
  "vscode": {
   "interpreter": {
    "hash": "7a792fcb311f9eb9f3c1b942a8c87ada8484712b89b670347c16a1088e0a1f69"
   }
  }
 },
 "nbformat": 4,
 "nbformat_minor": 2
}
