{
 "cells": [
  {
   "cell_type": "code",
   "execution_count": 1,
   "metadata": {},
   "outputs": [
    {
     "name": "stdout",
     "output_type": "stream",
     "text": [
      "Installing: matplotlib\n",
      "Requirement already satisfied: matplotlib in /home/abdellah/.local/lib/python3.8/site-packages (3.5.1)\n",
      "Requirement already satisfied: numpy>=1.17 in /home/abdellah/.local/lib/python3.8/site-packages (from matplotlib) (1.22.3)\n",
      "Requirement already satisfied: python-dateutil>=2.7 in /home/abdellah/.local/lib/python3.8/site-packages (from matplotlib) (2.8.2)\n",
      "Requirement already satisfied: kiwisolver>=1.0.1 in /home/abdellah/.local/lib/python3.8/site-packages (from matplotlib) (1.3.2)\n",
      "Requirement already satisfied: fonttools>=4.22.0 in /home/abdellah/.local/lib/python3.8/site-packages (from matplotlib) (4.30.0)\n",
      "Requirement already satisfied: pillow>=6.2.0 in /home/abdellah/.local/lib/python3.8/site-packages (from matplotlib) (9.0.1)\n",
      "Requirement already satisfied: pyparsing>=2.2.1 in /home/abdellah/.local/lib/python3.8/site-packages (from matplotlib) (3.0.7)\n",
      "Requirement already satisfied: cycler>=0.10 in /home/abdellah/.local/lib/python3.8/site-packages (from matplotlib) (0.11.0)\n",
      "Requirement already satisfied: packaging>=20.0 in /home/abdellah/.local/lib/python3.8/site-packages (from matplotlib) (21.3)\n",
      "Requirement already satisfied: six>=1.5 in /home/abdellah/.local/lib/python3.8/site-packages (from python-dateutil>=2.7->matplotlib) (1.16.0)\n",
      "Installing: seaborn\n",
      "Requirement already satisfied: seaborn in /home/abdellah/.local/lib/python3.8/site-packages (0.11.2)\n",
      "Requirement already satisfied: scipy>=1.0 in /home/abdellah/.local/lib/python3.8/site-packages (from seaborn) (1.8.0)\n",
      "Requirement already satisfied: pandas>=0.23 in /home/abdellah/.local/lib/python3.8/site-packages (from seaborn) (1.4.1)\n",
      "Requirement already satisfied: numpy>=1.15 in /home/abdellah/.local/lib/python3.8/site-packages (from seaborn) (1.22.3)\n",
      "Requirement already satisfied: matplotlib>=2.2 in /home/abdellah/.local/lib/python3.8/site-packages (from seaborn) (3.5.1)\n",
      "Requirement already satisfied: python-dateutil>=2.8.1 in /home/abdellah/.local/lib/python3.8/site-packages (from pandas>=0.23->seaborn) (2.8.2)\n",
      "Requirement already satisfied: pytz>=2020.1 in /home/abdellah/.local/lib/python3.8/site-packages (from pandas>=0.23->seaborn) (2021.3)\n",
      "Requirement already satisfied: kiwisolver>=1.0.1 in /home/abdellah/.local/lib/python3.8/site-packages (from matplotlib>=2.2->seaborn) (1.3.2)\n",
      "Requirement already satisfied: cycler>=0.10 in /home/abdellah/.local/lib/python3.8/site-packages (from matplotlib>=2.2->seaborn) (0.11.0)\n",
      "Requirement already satisfied: pyparsing>=2.2.1 in /home/abdellah/.local/lib/python3.8/site-packages (from matplotlib>=2.2->seaborn) (3.0.7)\n",
      "Requirement already satisfied: pillow>=6.2.0 in /home/abdellah/.local/lib/python3.8/site-packages (from matplotlib>=2.2->seaborn) (9.0.1)\n",
      "Requirement already satisfied: packaging>=20.0 in /home/abdellah/.local/lib/python3.8/site-packages (from matplotlib>=2.2->seaborn) (21.3)\n",
      "Requirement already satisfied: fonttools>=4.22.0 in /home/abdellah/.local/lib/python3.8/site-packages (from matplotlib>=2.2->seaborn) (4.30.0)\n",
      "Requirement already satisfied: six>=1.5 in /home/abdellah/.local/lib/python3.8/site-packages (from python-dateutil>=2.8.1->pandas>=0.23->seaborn) (1.16.0)\n",
      "Installing: tqdm\n",
      "Requirement already satisfied: tqdm in /home/abdellah/.local/lib/python3.8/site-packages (4.63.0)\n",
      "Installing: pomegranate\n",
      "Requirement already satisfied: pomegranate in /home/abdellah/.local/lib/python3.8/site-packages (0.14.8)\n",
      "Requirement already satisfied: numpy>=1.20.0 in /home/abdellah/.local/lib/python3.8/site-packages (from pomegranate) (1.22.3)\n",
      "Requirement already satisfied: networkx>=2.4 in /home/abdellah/.local/lib/python3.8/site-packages (from pomegranate) (2.6.3)\n",
      "Requirement already satisfied: joblib>=0.9.0b4 in /home/abdellah/.local/lib/python3.8/site-packages (from pomegranate) (1.1.0)\n",
      "Requirement already satisfied: pyyaml in /home/abdellah/.local/lib/python3.8/site-packages (from pomegranate) (6.0)\n",
      "Requirement already satisfied: scipy>=0.17.0 in /home/abdellah/.local/lib/python3.8/site-packages (from pomegranate) (1.8.0)\n",
      "Installing: scipy\n",
      "Requirement already satisfied: scipy in /home/abdellah/.local/lib/python3.8/site-packages (1.8.0)\n",
      "Requirement already satisfied: numpy<1.25.0,>=1.17.3 in /home/abdellah/.local/lib/python3.8/site-packages (from scipy) (1.22.3)\n",
      "Installing: opencv-python\n",
      "Requirement already satisfied: opencv-python in /home/abdellah/.local/lib/python3.8/site-packages (4.6.0.66)\n",
      "Requirement already satisfied: numpy>=1.17.3; python_version >= \"3.8\" in /home/abdellah/.local/lib/python3.8/site-packages (from opencv-python) (1.22.3)\n"
     ]
    }
   ],
   "source": [
    "################# PLEASE DON'T EDIT THIS PANEL #################\n",
    "# Auto-installation of all the depedency packages \n",
    "# This notebook to be run only ONCE before running the other \n",
    "# notebooks to ensure that all dependencies are successfully \n",
    "# installed!  \n",
    "# TODO: Add all the deps to a .dep file that can be loaded to avoid duplicating code! \n",
    "from struct import pack\n",
    "\n",
    "def install(package):\n",
    "    import subprocess\n",
    "    import sys\n",
    "    print('Installing: %s' % package)\n",
    "    subprocess.check_call([sys.executable, \"-m\", \"pip\", \"install\", package])\n",
    "\n",
    "# Required packages \n",
    "packages = ['matplotlib', 'seaborn', 'tqdm', 'pomegranate', 'scipy', 'opencv-python']\n",
    "for package in packages:\n",
    "    install(package=package)"
   ]
  }
 ],
 "metadata": {
  "kernelspec": {
   "display_name": "Python 3.8.10 64-bit",
   "language": "python",
   "name": "python3"
  },
  "language_info": {
   "codemirror_mode": {
    "name": "ipython",
    "version": 3
   },
   "file_extension": ".py",
   "mimetype": "text/x-python",
   "name": "python",
   "nbconvert_exporter": "python",
   "pygments_lexer": "ipython3",
   "version": "3.8.10"
  },
  "orig_nbformat": 4,
  "vscode": {
   "interpreter": {
    "hash": "31f2aee4e71d21fbe5cf8b01ff0e069b9275f58929596ceb00d14d90e3e16cd6"
   }
  }
 },
 "nbformat": 4,
 "nbformat_minor": 2
}
